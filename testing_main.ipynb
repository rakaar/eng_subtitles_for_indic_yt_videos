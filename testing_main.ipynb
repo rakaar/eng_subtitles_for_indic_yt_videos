{
 "cells": [
  {
   "cell_type": "code",
   "execution_count": 1,
   "metadata": {},
   "outputs": [],
   "source": [
    "from dotenv import load_dotenv\n",
    "import os\n",
    "from utils import download_youtube_audio,split_audio_on_silence, process_chunks_and_collect_transcripts, create_srt_file\n"
   ]
  },
  {
   "cell_type": "code",
   "execution_count": 2,
   "metadata": {},
   "outputs": [],
   "source": [
    "load_dotenv()\n",
    "\n",
    "SARVAM_KEY = os.getenv('SARVAM_KEY')"
   ]
  },
  {
   "cell_type": "markdown",
   "metadata": {},
   "source": [
    "# Empty the audio chunks"
   ]
  },
  {
   "cell_type": "code",
   "execution_count": null,
   "metadata": {},
   "outputs": [],
   "source": [
    "# empty the audio_chunks folder\n",
    "os.system('rm -rf audio_chunks/*')"
   ]
  },
  {
   "cell_type": "markdown",
   "metadata": {},
   "source": [
    "# Inputs"
   ]
  },
  {
   "cell_type": "code",
   "execution_count": 3,
   "metadata": {},
   "outputs": [],
   "source": [
    "# take youtube link as input from user\n",
    "youtube_link = input(\"Enter the youtube link: \")"
   ]
  },
  {
   "cell_type": "code",
   "execution_count": 4,
   "metadata": {},
   "outputs": [
    {
     "name": "stdout",
     "output_type": "stream",
     "text": [
      "\n",
      "Language of the video and the number to be entered:\n",
      "    Unknow language: 0\n",
      "    Hindi: 1\n",
      "    Telugu: 2\n",
      "    Malayalam: 3\n",
      "    Kannada: 4\n",
      "    Bengali: 5\n",
      "    Marathi: 6\n",
      "    Odia: 7\n",
      "    Punjabi: 8\n",
      "    Tamil: 9\n",
      "    English: 10\n",
      "    Gujarati: 11\n",
      "      \n",
      "The prompt to assist is:\n",
      "This is a Malayalam language audio clip from a Youtube Video\n"
     ]
    }
   ],
   "source": [
    "# take language from users\n",
    "# hi-IN: Hindi, bn-IN: Bengali, kn-IN: Kannada, ml-IN: Malayalam, mr-IN: Marathi, od-IN: Odia, pa-IN: Punjabi, ta-IN: Tamil, te-IN: Telugu, gu-IN: Gujarati, en-IN: English\n",
    "num_to_language_mapping = {\n",
    "    0: 'Unknown',\n",
    "    1: 'Hindi',\n",
    "    2: 'Telugu',\n",
    "    3: 'Malayalam',\n",
    "    4: 'Kannada',\n",
    "    5: 'Bengali',\n",
    "    6: 'Marathi',\n",
    "    7: 'Odia',\n",
    "    8: 'Punjabi',\n",
    "    9: 'Tamil',\n",
    "    10: 'English',\n",
    "    11: 'Gujarati'\n",
    "}\n",
    "\n",
    "print(\"\"\"\n",
    "Language of the video and the number to be entered:\n",
    "    Unknow language: 0\n",
    "    Hindi: 1\n",
    "    Telugu: 2\n",
    "    Malayalam: 3\n",
    "    Kannada: 4\n",
    "    Bengali: 5\n",
    "    Marathi: 6\n",
    "    Odia: 7\n",
    "    Punjabi: 8\n",
    "    Tamil: 9\n",
    "    English: 10\n",
    "    Gujarati: 11\n",
    "      \"\"\")\n",
    "language_num = int(input(\"Enter the language number: \"))\n",
    "\n",
    "if language_num not in num_to_language_mapping.keys():\n",
    "    language_num = 0\n",
    "\n",
    "\n",
    "if language_num == 0:\n",
    "    prompt = None\n",
    "else:\n",
    "    prompt = f\"This is a {num_to_language_mapping[language_num]} language audio clip from a Youtube Video\"\n",
    "\n",
    "\n",
    "print('The prompt to assist is:')\n",
    "print(prompt)"
   ]
  },
  {
   "cell_type": "markdown",
   "metadata": {},
   "source": [
    "# Download audio"
   ]
  },
  {
   "cell_type": "code",
   "execution_count": 5,
   "metadata": {},
   "outputs": [
    {
     "name": "stdout",
     "output_type": "stream",
     "text": [
      "[youtube] Extracting URL: https://www.youtube.com/watch?v=Ap0Uwc4xH50\n",
      "[youtube] Ap0Uwc4xH50: Downloading webpage\n",
      "[youtube] Ap0Uwc4xH50: Downloading ios player API JSON\n",
      "[youtube] Ap0Uwc4xH50: Downloading web creator player API JSON\n",
      "[youtube] Ap0Uwc4xH50: Downloading m3u8 information\n",
      "[info] Ap0Uwc4xH50: Downloading 1 format(s): 251\n",
      "[download] Destination: audio_files/Kudumba Nakshatram - Not a Review ｜ Reeload Roast.webm\n",
      "[download] 100% of    5.14MiB in 00:00:00 at 18.59MiB/s    \n",
      "[ExtractAudio] Destination: audio_files/Kudumba Nakshatram - Not a Review ｜ Reeload Roast.mp3\n",
      "Deleting original file audio_files/Kudumba Nakshatram - Not a Review ｜ Reeload Roast.webm (pass -k to keep)\n",
      "Audio downloaded successfully: audio_files/Kudumba Nakshatram - Not a Review ｜ Reeload Roast.mp3\n",
      "Downloaded audio file path: audio_files/Kudumba Nakshatram - Not a Review ｜ Reeload Roast.mp3\n"
     ]
    }
   ],
   "source": [
    "downloaded_audio = download_youtube_audio(youtube_link, output_path='audio_files', audio_format='mp3')\n",
    "if downloaded_audio:\n",
    "    print(f\"Downloaded audio file path: {downloaded_audio}\")\n",
    "else:\n",
    "    raise Exception(\"Failed to download audio file\")"
   ]
  },
  {
   "cell_type": "markdown",
   "metadata": {},
   "source": [
    "# Split audio into Chunks"
   ]
  },
  {
   "cell_type": "code",
   "execution_count": 6,
   "metadata": {},
   "outputs": [
    {
     "name": "stdout",
     "output_type": "stream",
     "text": [
      "Splitting audio into chunks based on silence...\n",
      "Created chunk_1_1.mp3: 0.00s to 6.88s\n",
      "Created chunk_1_2.mp3: 6.88s to 13.76s\n",
      "Created chunk_1_3.mp3: 13.76s to 20.65s\n",
      "Created chunk_1_4.mp3: 20.65s to 27.53s\n",
      "Created chunk_1_5.mp3: 27.53s to 34.41s\n",
      "Created chunk_1_6.mp3: 34.41s to 41.29s\n",
      "Created chunk_1_7.mp3: 41.29s to 48.17s\n",
      "Created chunk_1_8.mp3: 48.17s to 55.06s\n",
      "Created chunk_1_9.mp3: 55.06s to 61.94s\n",
      "Created chunk_1_10.mp3: 61.94s to 68.82s\n",
      "Created chunk_1_11.mp3: 68.82s to 75.70s\n",
      "Created chunk_1_12.mp3: 75.70s to 82.58s\n",
      "Created chunk_1_13.mp3: 82.58s to 89.47s\n",
      "Created chunk_1_14.mp3: 89.47s to 96.35s\n",
      "Created chunk_1_15.mp3: 96.35s to 103.23s\n",
      "Created chunk_1_16.mp3: 103.23s to 110.11s\n",
      "Created chunk_1_17.mp3: 110.11s to 116.99s\n",
      "Created chunk_1_18.mp3: 116.99s to 123.88s\n",
      "Created chunk_1_19.mp3: 123.88s to 130.76s\n",
      "Created chunk_1_20.mp3: 130.76s to 137.64s\n",
      "Created chunk_1_21.mp3: 137.64s to 144.52s\n",
      "Created chunk_1_22.mp3: 144.52s to 151.40s\n",
      "Created chunk_1_23.mp3: 151.40s to 158.29s\n",
      "Created chunk_1_24.mp3: 158.29s to 165.17s\n",
      "Created chunk_1_25.mp3: 165.17s to 172.05s\n",
      "Created chunk_1_26.mp3: 172.05s to 178.93s\n",
      "Created chunk_1_27.mp3: 178.93s to 185.81s\n",
      "Created chunk_1_28.mp3: 185.81s to 192.70s\n",
      "Created chunk_1_29.mp3: 192.70s to 199.58s\n",
      "Created chunk_1_30.mp3: 199.58s to 206.46s\n",
      "Created chunk_1_31.mp3: 206.46s to 213.34s\n",
      "Created chunk_1_32.mp3: 213.34s to 220.22s\n",
      "Created chunk_1_33.mp3: 220.22s to 227.11s\n",
      "Created chunk_1_34.mp3: 227.11s to 233.99s\n",
      "Created chunk_1_35.mp3: 233.99s to 240.87s\n",
      "Created chunk_1_36.mp3: 240.87s to 247.75s\n",
      "Created chunk_1_37.mp3: 247.75s to 254.63s\n",
      "Created chunk_1_38.mp3: 254.63s to 261.52s\n",
      "Created chunk_1_39.mp3: 261.52s to 268.40s\n",
      "Created chunk_1_40.mp3: 268.40s to 275.28s\n",
      "Created chunk_1_41.mp3: 275.28s to 282.16s\n",
      "Created chunk_1_42.mp3: 282.16s to 289.04s\n",
      "Created chunk_1_43.mp3: 289.04s to 295.93s\n",
      "Created chunk_1_44.mp3: 295.93s to 302.81s\n",
      "Created chunk_1_45.mp3: 302.81s to 309.69s\n",
      "Created chunk_1_46.mp3: 309.69s to 316.57s\n"
     ]
    }
   ],
   "source": [
    "if downloaded_audio:\n",
    "    try:\n",
    "        chunks = split_audio_on_silence(\n",
    "            downloaded_audio,\n",
    "            output_dir='audio_chunks',\n",
    "            min_silence_len=1000,\n",
    "            silence_thresh=-40,\n",
    "            keep_silence=500\n",
    "        )\n",
    "    except Exception as e:\n",
    "        raise Exception(f\"Failed to split audio into chunks: {e}\")\n",
    "else:\n",
    "    raise Exception(\"Download audio file not found\")"
   ]
  },
  {
   "cell_type": "markdown",
   "metadata": {},
   "source": [
    "# Send API request"
   ]
  },
  {
   "cell_type": "code",
   "execution_count": 7,
   "metadata": {},
   "outputs": [
    {
     "name": "stdout",
     "output_type": "stream",
     "text": [
      "Processing chunk: audio_chunks/chunk_1_1.mp3 from 0.00s to 6.88s\n",
      "Transcription successful for chunk_1_1.mp3\n",
      "Processing chunk: audio_chunks/chunk_1_2.mp3 from 6.88s to 13.76s\n",
      "Transcription successful for chunk_1_2.mp3\n",
      "Processing chunk: audio_chunks/chunk_1_3.mp3 from 13.76s to 20.65s\n",
      "Transcription successful for chunk_1_3.mp3\n",
      "Processing chunk: audio_chunks/chunk_1_4.mp3 from 20.65s to 27.53s\n",
      "Transcription successful for chunk_1_4.mp3\n",
      "Processing chunk: audio_chunks/chunk_1_5.mp3 from 27.53s to 34.41s\n",
      "Transcription successful for chunk_1_5.mp3\n",
      "Processing chunk: audio_chunks/chunk_1_6.mp3 from 34.41s to 41.29s\n",
      "Transcription successful for chunk_1_6.mp3\n",
      "Processing chunk: audio_chunks/chunk_1_7.mp3 from 41.29s to 48.17s\n",
      "Transcription successful for chunk_1_7.mp3\n",
      "Processing chunk: audio_chunks/chunk_1_8.mp3 from 48.17s to 55.06s\n",
      "Transcription successful for chunk_1_8.mp3\n",
      "Processing chunk: audio_chunks/chunk_1_9.mp3 from 55.06s to 61.94s\n",
      "Transcription successful for chunk_1_9.mp3\n",
      "Processing chunk: audio_chunks/chunk_1_10.mp3 from 61.94s to 68.82s\n",
      "Transcription successful for chunk_1_10.mp3\n",
      "Processing chunk: audio_chunks/chunk_1_11.mp3 from 68.82s to 75.70s\n",
      "Transcription successful for chunk_1_11.mp3\n",
      "Processing chunk: audio_chunks/chunk_1_12.mp3 from 75.70s to 82.58s\n",
      "Transcription successful for chunk_1_12.mp3\n",
      "Processing chunk: audio_chunks/chunk_1_13.mp3 from 82.58s to 89.47s\n",
      "Transcription successful for chunk_1_13.mp3\n",
      "Processing chunk: audio_chunks/chunk_1_14.mp3 from 89.47s to 96.35s\n",
      "Transcription successful for chunk_1_14.mp3\n",
      "Processing chunk: audio_chunks/chunk_1_15.mp3 from 96.35s to 103.23s\n",
      "Transcription successful for chunk_1_15.mp3\n",
      "Processing chunk: audio_chunks/chunk_1_16.mp3 from 103.23s to 110.11s\n",
      "Transcription successful for chunk_1_16.mp3\n",
      "Processing chunk: audio_chunks/chunk_1_17.mp3 from 110.11s to 116.99s\n",
      "Transcription successful for chunk_1_17.mp3\n",
      "Processing chunk: audio_chunks/chunk_1_18.mp3 from 116.99s to 123.88s\n",
      "Transcription successful for chunk_1_18.mp3\n",
      "Processing chunk: audio_chunks/chunk_1_19.mp3 from 123.88s to 130.76s\n",
      "Transcription successful for chunk_1_19.mp3\n",
      "Processing chunk: audio_chunks/chunk_1_20.mp3 from 130.76s to 137.64s\n",
      "Transcription successful for chunk_1_20.mp3\n",
      "Processing chunk: audio_chunks/chunk_1_21.mp3 from 137.64s to 144.52s\n",
      "Transcription successful for chunk_1_21.mp3\n",
      "Processing chunk: audio_chunks/chunk_1_22.mp3 from 144.52s to 151.40s\n",
      "Transcription successful for chunk_1_22.mp3\n",
      "Processing chunk: audio_chunks/chunk_1_23.mp3 from 151.40s to 158.29s\n",
      "Transcription successful for chunk_1_23.mp3\n",
      "Processing chunk: audio_chunks/chunk_1_24.mp3 from 158.29s to 165.17s\n",
      "Transcription successful for chunk_1_24.mp3\n",
      "Processing chunk: audio_chunks/chunk_1_25.mp3 from 165.17s to 172.05s\n",
      "Transcription successful for chunk_1_25.mp3\n",
      "Processing chunk: audio_chunks/chunk_1_26.mp3 from 172.05s to 178.93s\n",
      "Transcription successful for chunk_1_26.mp3\n",
      "Processing chunk: audio_chunks/chunk_1_27.mp3 from 178.93s to 185.81s\n",
      "Transcription successful for chunk_1_27.mp3\n",
      "Processing chunk: audio_chunks/chunk_1_28.mp3 from 185.81s to 192.70s\n",
      "Transcription successful for chunk_1_28.mp3\n",
      "Processing chunk: audio_chunks/chunk_1_29.mp3 from 192.70s to 199.58s\n",
      "Transcription successful for chunk_1_29.mp3\n",
      "Processing chunk: audio_chunks/chunk_1_30.mp3 from 199.58s to 206.46s\n",
      "Transcription successful for chunk_1_30.mp3\n",
      "Processing chunk: audio_chunks/chunk_1_31.mp3 from 206.46s to 213.34s\n",
      "Transcription successful for chunk_1_31.mp3\n",
      "Processing chunk: audio_chunks/chunk_1_32.mp3 from 213.34s to 220.22s\n",
      "Transcription successful for chunk_1_32.mp3\n",
      "Processing chunk: audio_chunks/chunk_1_33.mp3 from 220.22s to 227.11s\n",
      "Transcription successful for chunk_1_33.mp3\n",
      "Processing chunk: audio_chunks/chunk_1_34.mp3 from 227.11s to 233.99s\n",
      "Transcription successful for chunk_1_34.mp3\n",
      "Processing chunk: audio_chunks/chunk_1_35.mp3 from 233.99s to 240.87s\n",
      "Transcription successful for chunk_1_35.mp3\n",
      "Processing chunk: audio_chunks/chunk_1_36.mp3 from 240.87s to 247.75s\n",
      "Transcription successful for chunk_1_36.mp3\n",
      "Processing chunk: audio_chunks/chunk_1_37.mp3 from 247.75s to 254.63s\n",
      "Transcription successful for chunk_1_37.mp3\n",
      "Processing chunk: audio_chunks/chunk_1_38.mp3 from 254.63s to 261.52s\n",
      "Transcription successful for chunk_1_38.mp3\n",
      "Processing chunk: audio_chunks/chunk_1_39.mp3 from 261.52s to 268.40s\n",
      "Transcription successful for chunk_1_39.mp3\n",
      "Processing chunk: audio_chunks/chunk_1_40.mp3 from 268.40s to 275.28s\n",
      "Transcription successful for chunk_1_40.mp3\n",
      "Processing chunk: audio_chunks/chunk_1_41.mp3 from 275.28s to 282.16s\n",
      "Transcription successful for chunk_1_41.mp3\n",
      "Processing chunk: audio_chunks/chunk_1_42.mp3 from 282.16s to 289.04s\n",
      "Transcription successful for chunk_1_42.mp3\n",
      "Processing chunk: audio_chunks/chunk_1_43.mp3 from 289.04s to 295.93s\n",
      "Transcription successful for chunk_1_43.mp3\n",
      "Processing chunk: audio_chunks/chunk_1_44.mp3 from 295.93s to 302.81s\n",
      "Transcription successful for chunk_1_44.mp3\n",
      "Processing chunk: audio_chunks/chunk_1_45.mp3 from 302.81s to 309.69s\n",
      "Transcription successful for chunk_1_45.mp3\n",
      "Processing chunk: audio_chunks/chunk_1_46.mp3 from 309.69s to 316.57s\n",
      "Transcription successful for chunk_1_46.mp3\n"
     ]
    }
   ],
   "source": [
    "try:\n",
    "    transcripts = process_chunks_and_collect_transcripts(chunks, SARVAM_KEY, prompt=prompt)\n",
    "except Exception as e:\n",
    "    raise Exception(f\"Failed to collect transcripts: {e}\")"
   ]
  },
  {
   "cell_type": "markdown",
   "metadata": {},
   "source": [
    "# Create subtitle file"
   ]
  },
  {
   "cell_type": "code",
   "execution_count": 8,
   "metadata": {},
   "outputs": [
    {
     "name": "stdout",
     "output_type": "stream",
     "text": [
      "SRT file created at subtitles.srt\n"
     ]
    }
   ],
   "source": [
    "if transcripts:\n",
    "    try:\n",
    "        create_srt_file(transcripts, output_file='subtitles.srt', max_chars=42)\n",
    "    except Exception as e:\n",
    "        raise Exception(f\"Failed to create srt file: {e}\")\n",
    "else:\n",
    "    raise Exception(\"No transcripts found\")"
   ]
  }
 ],
 "metadata": {
  "kernelspec": {
   "display_name": "Python 3",
   "language": "python",
   "name": "python3"
  },
  "language_info": {
   "codemirror_mode": {
    "name": "ipython",
    "version": 3
   },
   "file_extension": ".py",
   "mimetype": "text/x-python",
   "name": "python",
   "nbconvert_exporter": "python",
   "pygments_lexer": "ipython3",
   "version": "3.10.12"
  }
 },
 "nbformat": 4,
 "nbformat_minor": 2
}
